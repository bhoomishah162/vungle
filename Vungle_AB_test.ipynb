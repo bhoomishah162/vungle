{
  "cells": [
    {
      "cell_type": "markdown",
      "metadata": {
        "id": "vQU3zTcfBRcb"
      },
      "source": [
        "# AB testing at Vungle"
      ]
    },
    {
      "cell_type": "markdown",
      "metadata": {
        "id": "apVn6HhTBRcc"
      },
      "source": [
        "## <span style='color: red'> Write team members who contributed (Submit one copy per team): </span>"
      ]
    },
    {
      "cell_type": "markdown",
      "metadata": {
        "id": "3Kc2iQhmBRcd"
      },
      "source": [
        "Bhoomi Shah\n",
        "\n",
        "Akshaya Ramprasad\n",
        "\n",
        "Nivedya Pillai\n",
        "\n",
        "Vaishnavi Sawant\n",
        "\n",
        "Ardha Anil"
      ]
    },
    {
      "cell_type": "markdown",
      "metadata": {
        "id": "y_GHAk33BRcd"
      },
      "source": [
        "### 1. What are the parties participated in the in-app mobile ad market? How does the in-app mobile work?"
      ]
    },
    {
      "cell_type": "markdown",
      "metadata": {
        "id": "kPLLV7S1BRce"
      },
      "source": [
        "Parties participating in the in-app mobile ad market are:\n",
        "\n",
        "*   The user of the mobile device (**user**)\n",
        "*   The owner of the app being used (**publisher**)\n",
        "*   The sponsor of the video ad the user was exposed to (**advertiser**)\n",
        "*   The platform that matched the choice of ad to a specific user (e.g., **Vungle**)\n",
        "\n",
        "The in-app mobile advertising market works in the following way:\n",
        "\n",
        "1.   User opens an app(owned by a publisher of that app)\n",
        "2.   The app sends a request to ad-serving platform (eg: Vungle) for an ad to show on the screen\n",
        "3.   Vungle would determine which ad to send back to the app based on the request it received. To match an ideal ad, it looks for the type of app through which request was sent(for eg: gaming, food delivery, etc.), the user(location, preferences, past behavior, etc) and the list of advertisers. It picks the best ad via an algorithm to get an install or a click from the user. The selected ad is sent back to the app.\n",
        "4. App displays the ad received (assuming the screen on the device is still the one when request was sent). If atleast 80% of ad was watched, it leads to increase in completion rate.\n",
        "5. If the user clicks (leads to increase in CTR) and then also installs(leads to increase in conversion rate), the ad payment workflow kicks in.\n",
        "6. The revenues generated from the ad campaign are shared between the publisher of the app and Vungle(and are paid by advertiser). Publishers typically receive a percentage of the advertising revenue, while the rest goes to the Vungle.\n",
        "\n",
        "\n",
        "\n",
        "\n",
        "\n"
      ]
    },
    {
      "cell_type": "markdown",
      "metadata": {
        "id": "E3VLgczwBRce"
      },
      "source": [
        "### 2. How does Vungle make money? What is the typical measure of the effectiveness of an app-promotion and the success of the serving platform?"
      ]
    },
    {
      "cell_type": "markdown",
      "metadata": {
        "id": "4AawhTaMBRcf"
      },
      "source": [
        "Vungle makes money through ads at all different points along the ad-serving journey. These are:\n",
        "\n",
        "1.   CPI (cost per install)\n",
        "2.   CPC (cost per click)\n",
        "3.   CPCV (cost per completed view)\n",
        "4.   CPM (cost per 1,000 views)\n",
        "\n",
        "The typical measures for effectives of an app-promotion and the success of the serving platform are:\n",
        "\n",
        "1. Fill Rate - Percentage of Ad Requests that are fulfilled(Successful response from the ad server)\n",
        "2. Completion Rate - Percentage of users who watch a significant portion of the video ad(>=80%)\n",
        "3. Click-through Rate - Percentage of users who clicked the ad after viewing it\n",
        "4. Conversion Rate: Percentage of users who not only clicked on an ad but also took the desired action, such as installing the promoted app.\n",
        "5. eRPM (Effective Revenue per 1,000 Impressions): Combined revenue earned by both the publisher and Vungle(the ad platform) for every 1,000 ad impressions."
      ]
    },
    {
      "cell_type": "markdown",
      "metadata": {
        "id": "OfMNBCrkBRcf"
      },
      "source": [
        "### 3. How does the new algorithm differ from the existing algorithm?"
      ]
    },
    {
      "cell_type": "markdown",
      "metadata": {
        "id": "HRNz9eIsBRcg"
      },
      "source": [
        "The new ad-serving algorithm(B) built by Kritzer and Guerin used a data science approach that would use historical information about users, publishers, and install rates to determine which ad campaign to serve in order to increase the chance of a conversion and, more specifically, eRPM. If proved successful, implementing it would require regular updates to the model(something like a feedback learning model) by a data scientist, most likely Guerin himself. As for the Vungle's existing algorithm(A), not much has been mentioned but it does not use a data science approach. Thus, we can assume it used a fix set of rules to decide which ad to serve."
      ]
    },
    {
      "cell_type": "markdown",
      "metadata": {
        "id": "MFo159L4BRch"
      },
      "source": [
        "### 4. What are the key questions Vungle would like to know through the experiment?"
      ]
    },
    {
      "cell_type": "markdown",
      "metadata": {
        "tags": [],
        "id": "R5w3RViABRch"
      },
      "source": [
        "Vungle's A/B testing experiment tries to answer several key questions that are crucial for looking at the performance of the new ad-serving algorithm (algorithm B) compared to the existing algorithm (algorithm A).\n",
        "1. Does Algorithm B generate more revenue than Algorithm A?\n",
        "Vungle wants to see whether algorithm B leads to higher eRPM (effective revenue per 1,000 impressions) in comparision to algorithm A. This question assesses whether the new algorithm can improve the financial performance of ad campaigns. Infact, in just two weeks, B was looking pretty good. Its daily eRPM was on average $0.134 higher than algorithm A.\n",
        "\n",
        "2. Does Algorithm B Improve Click-Through Rates (CTR)?: Vungle also wants to understand if algorithm B can achieve a higher click-through rate, indicating that it can drive more user engagement and interactions with ads.\n",
        "\n",
        "3. Is Algorithm B Better at Converting Impressions into Installs?: The experiment seeks to determine whether algorithm B can increase the conversion rate, which represents the percentage of users who install advertised apps after interacting with the ads.\n",
        "\n",
        "4. What Is the Impact on Fill Rate?: Vungle wants to understand if algorithm B affects the fill rate, which measures the percentage of ad requests that are successfully filled with ads. A higher fill rate is important for maximizing ad inventory utilization. If it is lower, it would mean the algorithm might be effective in eRPM and CTR but is lacking in performance/needs more computing to serve more requests.\n"
      ]
    },
    {
      "cell_type": "markdown",
      "metadata": {
        "id": "O-pXerhDBRch"
      },
      "source": [
        "### 5. Import the data provided 'Vungle.xlsx' and display the first 5 observtions. Then, calculate completion rate, click-through rate (CTR), and conversion rate.\n",
        "- Hint: data[‘var1’] = data.var2/data.var3"
      ]
    },
    {
      "cell_type": "code",
      "execution_count": null,
      "metadata": {
        "id": "keEYZti_BRci"
      },
      "outputs": [],
      "source": [
        "import pandas as pd\n",
        "import numpy as np\n",
        "from scipy import stats"
      ]
    },
    {
      "cell_type": "code",
      "source": [
        "df = pd.read_excel('Vungle.xlsx')\n",
        "df.head()"
      ],
      "metadata": {
        "colab": {
          "base_uri": "https://localhost:8080/",
          "height": 206
        },
        "id": "7q-TW9KeGgGe",
        "outputId": "7b0f7748-be7f-4ac2-b56a-e6acab216d64"
      },
      "execution_count": null,
      "outputs": [
        {
          "output_type": "execute_result",
          "data": {
            "text/plain": [
              "        date strategy  impression  complete   click  install   erpm\n",
              "0 2014-06-01        A     6777407   5978434  345309    31119  3.327\n",
              "1 2014-06-02        A     6004310   5331727  299732    24601  2.943\n",
              "2 2014-06-03        A     5832627   5193549  291384    24220  3.025\n",
              "3 2014-06-04        A     5875702   5227917  295099    23382  2.985\n",
              "4 2014-06-05        A     6843405   6111378  339529    27725  3.076"
            ],
            "text/html": [
              "\n",
              "  <div id=\"df-24d7a042-4ee1-4984-a1a6-a6b81300d9d1\" class=\"colab-df-container\">\n",
              "    <div>\n",
              "<style scoped>\n",
              "    .dataframe tbody tr th:only-of-type {\n",
              "        vertical-align: middle;\n",
              "    }\n",
              "\n",
              "    .dataframe tbody tr th {\n",
              "        vertical-align: top;\n",
              "    }\n",
              "\n",
              "    .dataframe thead th {\n",
              "        text-align: right;\n",
              "    }\n",
              "</style>\n",
              "<table border=\"1\" class=\"dataframe\">\n",
              "  <thead>\n",
              "    <tr style=\"text-align: right;\">\n",
              "      <th></th>\n",
              "      <th>date</th>\n",
              "      <th>strategy</th>\n",
              "      <th>impression</th>\n",
              "      <th>complete</th>\n",
              "      <th>click</th>\n",
              "      <th>install</th>\n",
              "      <th>erpm</th>\n",
              "    </tr>\n",
              "  </thead>\n",
              "  <tbody>\n",
              "    <tr>\n",
              "      <th>0</th>\n",
              "      <td>2014-06-01</td>\n",
              "      <td>A</td>\n",
              "      <td>6777407</td>\n",
              "      <td>5978434</td>\n",
              "      <td>345309</td>\n",
              "      <td>31119</td>\n",
              "      <td>3.327</td>\n",
              "    </tr>\n",
              "    <tr>\n",
              "      <th>1</th>\n",
              "      <td>2014-06-02</td>\n",
              "      <td>A</td>\n",
              "      <td>6004310</td>\n",
              "      <td>5331727</td>\n",
              "      <td>299732</td>\n",
              "      <td>24601</td>\n",
              "      <td>2.943</td>\n",
              "    </tr>\n",
              "    <tr>\n",
              "      <th>2</th>\n",
              "      <td>2014-06-03</td>\n",
              "      <td>A</td>\n",
              "      <td>5832627</td>\n",
              "      <td>5193549</td>\n",
              "      <td>291384</td>\n",
              "      <td>24220</td>\n",
              "      <td>3.025</td>\n",
              "    </tr>\n",
              "    <tr>\n",
              "      <th>3</th>\n",
              "      <td>2014-06-04</td>\n",
              "      <td>A</td>\n",
              "      <td>5875702</td>\n",
              "      <td>5227917</td>\n",
              "      <td>295099</td>\n",
              "      <td>23382</td>\n",
              "      <td>2.985</td>\n",
              "    </tr>\n",
              "    <tr>\n",
              "      <th>4</th>\n",
              "      <td>2014-06-05</td>\n",
              "      <td>A</td>\n",
              "      <td>6843405</td>\n",
              "      <td>6111378</td>\n",
              "      <td>339529</td>\n",
              "      <td>27725</td>\n",
              "      <td>3.076</td>\n",
              "    </tr>\n",
              "  </tbody>\n",
              "</table>\n",
              "</div>\n",
              "    <div class=\"colab-df-buttons\">\n",
              "\n",
              "  <div class=\"colab-df-container\">\n",
              "    <button class=\"colab-df-convert\" onclick=\"convertToInteractive('df-24d7a042-4ee1-4984-a1a6-a6b81300d9d1')\"\n",
              "            title=\"Convert this dataframe to an interactive table.\"\n",
              "            style=\"display:none;\">\n",
              "\n",
              "  <svg xmlns=\"http://www.w3.org/2000/svg\" height=\"24px\" viewBox=\"0 -960 960 960\">\n",
              "    <path d=\"M120-120v-720h720v720H120Zm60-500h600v-160H180v160Zm220 220h160v-160H400v160Zm0 220h160v-160H400v160ZM180-400h160v-160H180v160Zm440 0h160v-160H620v160ZM180-180h160v-160H180v160Zm440 0h160v-160H620v160Z\"/>\n",
              "  </svg>\n",
              "    </button>\n",
              "\n",
              "  <style>\n",
              "    .colab-df-container {\n",
              "      display:flex;\n",
              "      gap: 12px;\n",
              "    }\n",
              "\n",
              "    .colab-df-convert {\n",
              "      background-color: #E8F0FE;\n",
              "      border: none;\n",
              "      border-radius: 50%;\n",
              "      cursor: pointer;\n",
              "      display: none;\n",
              "      fill: #1967D2;\n",
              "      height: 32px;\n",
              "      padding: 0 0 0 0;\n",
              "      width: 32px;\n",
              "    }\n",
              "\n",
              "    .colab-df-convert:hover {\n",
              "      background-color: #E2EBFA;\n",
              "      box-shadow: 0px 1px 2px rgba(60, 64, 67, 0.3), 0px 1px 3px 1px rgba(60, 64, 67, 0.15);\n",
              "      fill: #174EA6;\n",
              "    }\n",
              "\n",
              "    .colab-df-buttons div {\n",
              "      margin-bottom: 4px;\n",
              "    }\n",
              "\n",
              "    [theme=dark] .colab-df-convert {\n",
              "      background-color: #3B4455;\n",
              "      fill: #D2E3FC;\n",
              "    }\n",
              "\n",
              "    [theme=dark] .colab-df-convert:hover {\n",
              "      background-color: #434B5C;\n",
              "      box-shadow: 0px 1px 3px 1px rgba(0, 0, 0, 0.15);\n",
              "      filter: drop-shadow(0px 1px 2px rgba(0, 0, 0, 0.3));\n",
              "      fill: #FFFFFF;\n",
              "    }\n",
              "  </style>\n",
              "\n",
              "    <script>\n",
              "      const buttonEl =\n",
              "        document.querySelector('#df-24d7a042-4ee1-4984-a1a6-a6b81300d9d1 button.colab-df-convert');\n",
              "      buttonEl.style.display =\n",
              "        google.colab.kernel.accessAllowed ? 'block' : 'none';\n",
              "\n",
              "      async function convertToInteractive(key) {\n",
              "        const element = document.querySelector('#df-24d7a042-4ee1-4984-a1a6-a6b81300d9d1');\n",
              "        const dataTable =\n",
              "          await google.colab.kernel.invokeFunction('convertToInteractive',\n",
              "                                                    [key], {});\n",
              "        if (!dataTable) return;\n",
              "\n",
              "        const docLinkHtml = 'Like what you see? Visit the ' +\n",
              "          '<a target=\"_blank\" href=https://colab.research.google.com/notebooks/data_table.ipynb>data table notebook</a>'\n",
              "          + ' to learn more about interactive tables.';\n",
              "        element.innerHTML = '';\n",
              "        dataTable['output_type'] = 'display_data';\n",
              "        await google.colab.output.renderOutput(dataTable, element);\n",
              "        const docLink = document.createElement('div');\n",
              "        docLink.innerHTML = docLinkHtml;\n",
              "        element.appendChild(docLink);\n",
              "      }\n",
              "    </script>\n",
              "  </div>\n",
              "\n",
              "\n",
              "<div id=\"df-585d7c12-ef52-49fd-82df-0d46118b0596\">\n",
              "  <button class=\"colab-df-quickchart\" onclick=\"quickchart('df-585d7c12-ef52-49fd-82df-0d46118b0596')\"\n",
              "            title=\"Suggest charts.\"\n",
              "            style=\"display:none;\">\n",
              "\n",
              "<svg xmlns=\"http://www.w3.org/2000/svg\" height=\"24px\"viewBox=\"0 0 24 24\"\n",
              "     width=\"24px\">\n",
              "    <g>\n",
              "        <path d=\"M19 3H5c-1.1 0-2 .9-2 2v14c0 1.1.9 2 2 2h14c1.1 0 2-.9 2-2V5c0-1.1-.9-2-2-2zM9 17H7v-7h2v7zm4 0h-2V7h2v10zm4 0h-2v-4h2v4z\"/>\n",
              "    </g>\n",
              "</svg>\n",
              "  </button>\n",
              "\n",
              "<style>\n",
              "  .colab-df-quickchart {\n",
              "      --bg-color: #E8F0FE;\n",
              "      --fill-color: #1967D2;\n",
              "      --hover-bg-color: #E2EBFA;\n",
              "      --hover-fill-color: #174EA6;\n",
              "      --disabled-fill-color: #AAA;\n",
              "      --disabled-bg-color: #DDD;\n",
              "  }\n",
              "\n",
              "  [theme=dark] .colab-df-quickchart {\n",
              "      --bg-color: #3B4455;\n",
              "      --fill-color: #D2E3FC;\n",
              "      --hover-bg-color: #434B5C;\n",
              "      --hover-fill-color: #FFFFFF;\n",
              "      --disabled-bg-color: #3B4455;\n",
              "      --disabled-fill-color: #666;\n",
              "  }\n",
              "\n",
              "  .colab-df-quickchart {\n",
              "    background-color: var(--bg-color);\n",
              "    border: none;\n",
              "    border-radius: 50%;\n",
              "    cursor: pointer;\n",
              "    display: none;\n",
              "    fill: var(--fill-color);\n",
              "    height: 32px;\n",
              "    padding: 0;\n",
              "    width: 32px;\n",
              "  }\n",
              "\n",
              "  .colab-df-quickchart:hover {\n",
              "    background-color: var(--hover-bg-color);\n",
              "    box-shadow: 0 1px 2px rgba(60, 64, 67, 0.3), 0 1px 3px 1px rgba(60, 64, 67, 0.15);\n",
              "    fill: var(--button-hover-fill-color);\n",
              "  }\n",
              "\n",
              "  .colab-df-quickchart-complete:disabled,\n",
              "  .colab-df-quickchart-complete:disabled:hover {\n",
              "    background-color: var(--disabled-bg-color);\n",
              "    fill: var(--disabled-fill-color);\n",
              "    box-shadow: none;\n",
              "  }\n",
              "\n",
              "  .colab-df-spinner {\n",
              "    border: 2px solid var(--fill-color);\n",
              "    border-color: transparent;\n",
              "    border-bottom-color: var(--fill-color);\n",
              "    animation:\n",
              "      spin 1s steps(1) infinite;\n",
              "  }\n",
              "\n",
              "  @keyframes spin {\n",
              "    0% {\n",
              "      border-color: transparent;\n",
              "      border-bottom-color: var(--fill-color);\n",
              "      border-left-color: var(--fill-color);\n",
              "    }\n",
              "    20% {\n",
              "      border-color: transparent;\n",
              "      border-left-color: var(--fill-color);\n",
              "      border-top-color: var(--fill-color);\n",
              "    }\n",
              "    30% {\n",
              "      border-color: transparent;\n",
              "      border-left-color: var(--fill-color);\n",
              "      border-top-color: var(--fill-color);\n",
              "      border-right-color: var(--fill-color);\n",
              "    }\n",
              "    40% {\n",
              "      border-color: transparent;\n",
              "      border-right-color: var(--fill-color);\n",
              "      border-top-color: var(--fill-color);\n",
              "    }\n",
              "    60% {\n",
              "      border-color: transparent;\n",
              "      border-right-color: var(--fill-color);\n",
              "    }\n",
              "    80% {\n",
              "      border-color: transparent;\n",
              "      border-right-color: var(--fill-color);\n",
              "      border-bottom-color: var(--fill-color);\n",
              "    }\n",
              "    90% {\n",
              "      border-color: transparent;\n",
              "      border-bottom-color: var(--fill-color);\n",
              "    }\n",
              "  }\n",
              "</style>\n",
              "\n",
              "  <script>\n",
              "    async function quickchart(key) {\n",
              "      const quickchartButtonEl =\n",
              "        document.querySelector('#' + key + ' button');\n",
              "      quickchartButtonEl.disabled = true;  // To prevent multiple clicks.\n",
              "      quickchartButtonEl.classList.add('colab-df-spinner');\n",
              "      try {\n",
              "        const charts = await google.colab.kernel.invokeFunction(\n",
              "            'suggestCharts', [key], {});\n",
              "      } catch (error) {\n",
              "        console.error('Error during call to suggestCharts:', error);\n",
              "      }\n",
              "      quickchartButtonEl.classList.remove('colab-df-spinner');\n",
              "      quickchartButtonEl.classList.add('colab-df-quickchart-complete');\n",
              "    }\n",
              "    (() => {\n",
              "      let quickchartButtonEl =\n",
              "        document.querySelector('#df-585d7c12-ef52-49fd-82df-0d46118b0596 button');\n",
              "      quickchartButtonEl.style.display =\n",
              "        google.colab.kernel.accessAllowed ? 'block' : 'none';\n",
              "    })();\n",
              "  </script>\n",
              "</div>\n",
              "    </div>\n",
              "  </div>\n"
            ]
          },
          "metadata": {},
          "execution_count": 34
        }
      ]
    },
    {
      "cell_type": "code",
      "source": [
        "#Completion rate\n",
        "completion_rate = (df['complete'] / df['impression']).mean()\n",
        "print(f\"Completion Rate: {completion_rate:.2%}\")"
      ],
      "metadata": {
        "colab": {
          "base_uri": "https://localhost:8080/"
        },
        "id": "IJtZjJksH0J4",
        "outputId": "2559856c-0f98-46f0-a14e-e1c757f5b47e"
      },
      "execution_count": null,
      "outputs": [
        {
          "output_type": "stream",
          "name": "stdout",
          "text": [
            "Completion Rate: 89.03%\n"
          ]
        }
      ]
    },
    {
      "cell_type": "code",
      "source": [
        "#Click-through rate (CTR)\n",
        "ctr = (df['click'] / df['impression']).mean()\n",
        "print(f\"Click-Through Rate (CTR): {ctr:.2%}\")"
      ],
      "metadata": {
        "colab": {
          "base_uri": "https://localhost:8080/"
        },
        "id": "W4JXWX3eIT4L",
        "outputId": "356a0e81-a80f-4a4b-e4eb-1156a438b301"
      },
      "execution_count": null,
      "outputs": [
        {
          "output_type": "stream",
          "name": "stdout",
          "text": [
            "Click-Through Rate (CTR): 5.00%\n"
          ]
        }
      ]
    },
    {
      "cell_type": "code",
      "source": [
        "#Conversion rate\n",
        "conversion_rate = (df['install'] / df['impression']).mean()\n",
        "print(f\"Conversion Rate: {conversion_rate:.2%}\")"
      ],
      "metadata": {
        "colab": {
          "base_uri": "https://localhost:8080/"
        },
        "id": "GS17isacIUPi",
        "outputId": "2f1b066a-6b5d-4c85-8aba-88f62c9d812c"
      },
      "execution_count": null,
      "outputs": [
        {
          "output_type": "stream",
          "name": "stdout",
          "text": [
            "Conversion Rate: 0.38%\n"
          ]
        }
      ]
    },
    {
      "cell_type": "markdown",
      "metadata": {
        "id": "h_UtLOwxBRcm"
      },
      "source": [
        "### 6. What are the average eRPM, completion, conversion, and CTR for conditions A and B?\n",
        "- Hint: data.groupby('var1')['var2'].mean()"
      ]
    },
    {
      "cell_type": "code",
      "execution_count": null,
      "metadata": {
        "colab": {
          "base_uri": "https://localhost:8080/"
        },
        "id": "yyN7WF3aBRcm",
        "outputId": "e13ad583-beed-4a73-b12b-f4bbdc1e059a"
      },
      "outputs": [
        {
          "output_type": "execute_result",
          "data": {
            "text/plain": [
              "strategy\n",
              "A    3.3471\n",
              "B    3.4590\n",
              "Name: erpm, dtype: float64"
            ]
          },
          "metadata": {},
          "execution_count": 18
        }
      ],
      "source": [
        "avg_erpm = df.groupby(\"strategy\")[\"erpm\"].mean()\n",
        "avg_erpm"
      ]
    },
    {
      "cell_type": "code",
      "source": [
        "# Filter data for strategy A\n",
        "strategy_a_data = df[df['strategy'] == 'A']\n",
        "\n",
        "# Filter data for strategy B\n",
        "strategy_b_data = df[df['strategy'] == 'B']"
      ],
      "metadata": {
        "id": "WDlqV6nOJmBa"
      },
      "execution_count": null,
      "outputs": []
    },
    {
      "cell_type": "code",
      "source": [
        "# Average completion rate for strategy A and B\n",
        "average_completion_rate_strategy_a = (strategy_a_data['complete'] / strategy_a_data['impression']).mean()\n",
        "average_completion_rate_strategy_b = (strategy_b_data['complete'] / strategy_b_data['impression']).mean()\n",
        "\n",
        "print(f\"Average Completion Rate for strategy A: {average_completion_rate_strategy_a:.2%}\")\n",
        "print(f\"Average Completion Rate for strategy B: {average_completion_rate_strategy_b:.2%}\")\n",
        "\n",
        "# Average CTR for strategy A and B\n",
        "average_ctr_strategy_a = (strategy_a_data['click'] / strategy_a_data['impression']).mean()\n",
        "average_ctr_strategy_b = (strategy_b_data['click'] / strategy_b_data['impression']).mean()\n",
        "\n",
        "print(f\"Average CTR for strategy A: {average_ctr_strategy_a:.2%}\")\n",
        "print(f\"Average CTR for strategy B: {average_ctr_strategy_b:.2%}\")\n",
        "\n",
        "# Average conversion rate for strategy A and B\n",
        "average_conversion_rate_strategy_a = (strategy_a_data['install'] / strategy_a_data['impression']).mean()\n",
        "average_conversion_rate_strategy_b = (strategy_b_data['install'] / strategy_b_data['impression']).mean()\n",
        "\n",
        "print(f\"Average Conversion Rate for strategy A: {average_conversion_rate_strategy_a:.2%}\")\n",
        "print(f\"Average Conversion Rate for strategy B: {average_conversion_rate_strategy_b:.2%}\")"
      ],
      "metadata": {
        "colab": {
          "base_uri": "https://localhost:8080/"
        },
        "id": "dtKPD-DXK_a4",
        "outputId": "c4a074a1-83e6-476b-a996-f64f3ff4e8f6"
      },
      "execution_count": null,
      "outputs": [
        {
          "output_type": "stream",
          "name": "stdout",
          "text": [
            "Average Completion Rate for strategy A: 89.27%\n",
            "Average Completion Rate for strategy B: 88.78%\n",
            "Average CTR for strategy A: 5.07%\n",
            "Average CTR for strategy B: 4.92%\n",
            "Average Conversion Rate for strategy A: 0.40%\n",
            "Average Conversion Rate for strategy B: 0.35%\n"
          ]
        }
      ]
    },
    {
      "cell_type": "markdown",
      "metadata": {
        "id": "a77RDbzzBRcm"
      },
      "source": [
        "### 7. Test whether mean eRPM is equal to 3.4 for condition A and B. State the null and alternative hypotheses, and your conclusion with supporting reason. (Use 5% significance level)\n",
        "- Hint: Subset (divide) the data into two\n",
        "    - dataA=data[data.strategy==\"A\"]\n",
        "    - dataB=data[data.strategy==\"B\"]"
      ]
    },
    {
      "cell_type": "code",
      "execution_count": null,
      "metadata": {
        "colab": {
          "base_uri": "https://localhost:8080/"
        },
        "id": "zlaSzWtWBRcn",
        "outputId": "b2e7d756-0dba-4a9f-8bda-97ac1fe3ef74"
      },
      "outputs": [
        {
          "output_type": "execute_result",
          "data": {
            "text/plain": [
              "TtestResult(statistic=-1.3378706323475629, pvalue=0.19133605188963274, df=29)"
            ]
          },
          "metadata": {},
          "execution_count": 28
        }
      ],
      "source": [
        "stats.ttest_1samp(strategy_a_data['erpm'], 3.4)"
      ]
    },
    {
      "cell_type": "code",
      "source": [
        "stats.ttest_1samp(strategy_b_data['erpm'], 3.4)"
      ],
      "metadata": {
        "colab": {
          "base_uri": "https://localhost:8080/"
        },
        "id": "Bjoi4EPFVeP2",
        "outputId": "bcbba4cc-8911-4a61-dee5-7a19a2162a75"
      },
      "execution_count": null,
      "outputs": [
        {
          "output_type": "execute_result",
          "data": {
            "text/plain": [
              "TtestResult(statistic=0.9382534519621959, pvalue=0.35586335556174653, df=29)"
            ]
          },
          "metadata": {},
          "execution_count": 29
        }
      ]
    },
    {
      "cell_type": "markdown",
      "source": [
        "\n",
        "\n",
        "*   H0: Mean eRPM is equal to 3.4 for condition A and B.\n",
        "*   HA: Mean eRPM is not equal to 3.4 for condition A and B.\n",
        "*   Conclusion: We **do not reject** H0 because p-value for both conditions > 5%. The mean eRPM for Condition A and B are equal to 3.4\n"
      ],
      "metadata": {
        "id": "b83jtEDMUtV8"
      }
    },
    {
      "cell_type": "markdown",
      "metadata": {
        "id": "V_KiQGtTBRcn"
      },
      "source": [
        "### 8. Test whether mean eRPMs are different for condition A and B. State the null and alternative hypotheses, and your conclusion with supporting reason. (Use 5% significance level)"
      ]
    },
    {
      "cell_type": "code",
      "execution_count": null,
      "metadata": {
        "colab": {
          "base_uri": "https://localhost:8080/"
        },
        "id": "urXfa7l3BRcn",
        "outputId": "b93e8e37-4567-49f0-9875-195cfc0c7fa5"
      },
      "outputs": [
        {
          "output_type": "execute_result",
          "data": {
            "text/plain": [
              "TtestResult(statistic=-1.5064382333172264, pvalue=0.13738210974199117, df=58.0)"
            ]
          },
          "metadata": {},
          "execution_count": 30
        }
      ],
      "source": [
        "stats.ttest_ind(strategy_a_data[\"erpm\"], strategy_b_data[\"erpm\"])  # t-statistic and p-value"
      ]
    },
    {
      "cell_type": "markdown",
      "source": [
        "\n",
        "\n",
        "*   H0: Mean eRPM for condition A and B are same.\n",
        "*   HA: Mean eRPM for condition A and B are different.\n",
        "*   Conclusion: We **do not reject** H0 because p-value > 5%. The mean eRPM for condition A and B are not different\n"
      ],
      "metadata": {
        "id": "WLSuCIF5WKQA"
      }
    },
    {
      "cell_type": "markdown",
      "metadata": {
        "id": "N-qLrXcJBRcn"
      },
      "source": [
        "### 9. Test whether mean conversion rates are different for condition A and B. State the null and alternative hypotheses, and your conclusion with supporting reason. (Use 5% significance level)"
      ]
    },
    {
      "cell_type": "code",
      "execution_count": null,
      "metadata": {
        "colab": {
          "base_uri": "https://localhost:8080/"
        },
        "id": "3qHhsBq-BRcn",
        "outputId": "bcbcc250-5fcb-484a-cdfa-d24d1db5e75e"
      },
      "outputs": [
        {
          "output_type": "execute_result",
          "data": {
            "text/plain": [
              "TtestResult(statistic=8.81563097620209, pvalue=2.6750870126681745e-12, df=58.0)"
            ]
          },
          "metadata": {},
          "execution_count": 54
        }
      ],
      "source": [
        "strategy_a_data[\"conversion_rates\"] = strategy_a_data[\"install\"]/strategy_a_data[\"impression\"]\n",
        "strategy_b_data[\"conversion_rates\"] = strategy_b_data[\"install\"]/strategy_b_data[\"impression\"]\n",
        "stats.ttest_ind(strategy_a_data[\"conversion_rates\"], strategy_b_data[\"conversion_rates\"] )"
      ]
    },
    {
      "cell_type": "markdown",
      "source": [
        "\n",
        "\n",
        "*   H0: Mean conversion rates for condition A and B are same.\n",
        "*   HA: Mean conversion rates for condition A and B are different.\n",
        "*   Conclusion: We **reject** H0 because p-value is extremely small(2.6 * 10^-12). Mean conversion rates for condition A and B are different.\n"
      ],
      "metadata": {
        "id": "w2xuYt-hWLcT"
      }
    },
    {
      "cell_type": "markdown",
      "metadata": {
        "id": "4YP7cM_eBRco"
      },
      "source": [
        "### 10. What would you advise Jaffer regarding the performance of the new data science algorithm?"
      ]
    },
    {
      "cell_type": "markdown",
      "source": [
        "Our conclusion and advice to Jaffer based on the above tests would be:\n",
        "\n",
        "**eRPM**:\n",
        "\n",
        "As mentioned in the article, the daily eRPM in the first 2 weeks was on average $0.134 higher than algorithm A.\n",
        "\n",
        "But, the statistical test above for mean eRPM shows that both conditions A and B have the same eRPM(3.4). This suggests that, on average, both strategies perform similarly in terms of generating revenue. Therefore, the choice between the two strategies should not be based solely on eRPM but should consider other factors, such as user experience and ad effectiveness.\n",
        "\n",
        "The two-sample independent test between A and B also says eRPM are not different. This means that, from a revenue perspective, both strategies are equally effective.\n",
        "\n",
        "**Conversion Rate:**\n",
        "\n",
        "There is a statistically significant difference(the 9th question rejected the null hypothesis) in the mean conversion rates between both conditions. Thus, the mean conversion rate of condition A(0.4%) is stastically higher than B(0.3%)\n",
        "\n",
        "**Final Advice:**\n",
        "\n",
        "* Continue to monitor and gather user feedback and engagement metrics to assess how users perceive ads served by each strategy.\n",
        "\n",
        "* Evaluate the scalability and sustainability of strategy B to ensure it can adapt to changing market dynamics and user behaviors over time\n",
        "\n",
        "* Not to completely switch to algorithm B right away but establish a feedback loop for continuous improvement, allowing for regular updates and fine-tuning of strategy B based on real-world data and performance.\n"
      ],
      "metadata": {
        "id": "HflKHnYE1i5Z"
      }
    }
  ],
  "metadata": {
    "kernelspec": {
      "display_name": "Python 3 (ipykernel)",
      "language": "python",
      "name": "python3"
    },
    "language_info": {
      "codemirror_mode": {
        "name": "ipython",
        "version": 3
      },
      "file_extension": ".py",
      "mimetype": "text/x-python",
      "name": "python",
      "nbconvert_exporter": "python",
      "pygments_lexer": "ipython3",
      "version": "3.11.4"
    },
    "colab": {
      "provenance": []
    }
  },
  "nbformat": 4,
  "nbformat_minor": 0
}